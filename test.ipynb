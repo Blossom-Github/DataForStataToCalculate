{
 "cells": [
  {
   "cell_type": "markdown",
   "id": "39f09750-db0d-4f44-a91f-73fce08ec8df",
   "metadata": {},
   "source": [
    "## 为了测验能否直接将gitee数据导入stata中"
   ]
  },
  {
   "cell_type": "code",
   "execution_count": 1,
   "id": "f85e4b43-8fa7-4c4b-bebe-e1e3a7cae6ed",
   "metadata": {},
   "outputs": [],
   "source": [
    "import pandas as pd"
   ]
  },
  {
   "cell_type": "code",
   "execution_count": null,
   "id": "62838556-cad8-428e-8551-b60c0bd5cd39",
   "metadata": {},
   "outputs": [],
   "source": []
  }
 ],
 "metadata": {
  "kernelspec": {
   "display_name": "Python 3 (ipykernel)",
   "language": "python",
   "name": "python3"
  },
  "language_info": {
   "codemirror_mode": {
    "name": "ipython",
    "version": 3
   },
   "file_extension": ".py",
   "mimetype": "text/x-python",
   "name": "python",
   "nbconvert_exporter": "python",
   "pygments_lexer": "ipython3",
   "version": "3.9.19"
  }
 },
 "nbformat": 4,
 "nbformat_minor": 5
}
